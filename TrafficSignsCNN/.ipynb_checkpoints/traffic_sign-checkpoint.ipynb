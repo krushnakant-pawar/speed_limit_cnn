{
 "cells": [
  {
   "cell_type": "code",
   "execution_count": 2,
   "metadata": {},
   "outputs": [
    {
     "name": "stdout",
     "output_type": "stream",
     "text": [
      "Get:1 http://security.ubuntu.com/ubuntu bionic-security InRelease [88.7 kB]    \n",
      "Hit:2 http://archive.ubuntu.com/ubuntu bionic InRelease                        \n",
      "Get:3 http://archive.ubuntu.com/ubuntu bionic-updates InRelease [88.7 kB]      \n",
      "Get:4 http://security.ubuntu.com/ubuntu bionic-security/restricted amd64 Packages [31.0 kB]\n",
      "Ign:5 https://developer.download.nvidia.com/compute/cuda/repos/ubuntu1804/x86_64  InRelease\n",
      "Ign:6 https://developer.download.nvidia.com/compute/machine-learning/repos/ubuntu1804/x86_64  InRelease\n",
      "Get:7 http://security.ubuntu.com/ubuntu bionic-security/multiverse amd64 Packages [7641 B]\n",
      "Get:8 http://archive.ubuntu.com/ubuntu bionic-backports InRelease [74.6 kB]    \n",
      "Get:9 https://developer.download.nvidia.com/compute/cuda/repos/ubuntu1804/x86_64  Release [564 B]\n",
      "Get:10 http://security.ubuntu.com/ubuntu bionic-security/main amd64 Packages [836 kB]\n",
      "Get:11 https://developer.download.nvidia.com/compute/machine-learning/repos/ubuntu1804/x86_64  Release [564 B]\n",
      "Get:12 http://archive.ubuntu.com/ubuntu bionic-updates/universe amd64 Packages [1352 kB]\n",
      "Get:13 https://developer.download.nvidia.com/compute/cuda/repos/ubuntu1804/x86_64  Release.gpg [833 B]\n",
      "Get:14 https://developer.download.nvidia.com/compute/machine-learning/repos/ubuntu1804/x86_64  Release.gpg [833 B]\n",
      "Get:15 https://developer.download.nvidia.com/compute/cuda/repos/ubuntu1804/x86_64  Packages [132 kB]\n",
      "Get:16 https://developer.download.nvidia.com/compute/machine-learning/repos/ubuntu1804/x86_64  Packages [30.4 kB]\n",
      "Get:17 http://security.ubuntu.com/ubuntu bionic-security/universe amd64 Packages [824 kB]\n",
      "Get:18 http://archive.ubuntu.com/ubuntu bionic-updates/main amd64 Packages [1128 kB]\n",
      "Get:19 http://archive.ubuntu.com/ubuntu bionic-updates/restricted amd64 Packages [44.7 kB]\n",
      "Get:20 http://archive.ubuntu.com/ubuntu bionic-updates/multiverse amd64 Packages [11.7 kB]\n",
      "Get:21 http://archive.ubuntu.com/ubuntu bionic-backports/universe amd64 Packages [4247 B]\n",
      "Fetched 4657 kB in 15s (310 kB/s)                                              \n",
      "Reading package lists... Done\n"
     ]
    }
   ],
   "source": [
    "!apt-get update"
   ]
  },
  {
   "cell_type": "code",
   "execution_count": 9,
   "metadata": {},
   "outputs": [
    {
     "name": "stdout",
     "output_type": "stream",
     "text": [
      "E: dpkg was interrupted, you must manually run 'dpkg --configure -a' to correct the problem. \r\n"
     ]
    }
   ],
   "source": [
    "!apt install python3-opencv -y"
   ]
  },
  {
   "cell_type": "code",
   "execution_count": 8,
   "metadata": {},
   "outputs": [
    {
     "name": "stdout",
     "output_type": "stream",
     "text": [
      "root       427  0.2  0.0      0     0 ?        Z    04:20   0:03 [apt] <defunct>\r\n",
      "root      2923 45.0  0.0   4632   864 pts/1    Ss+  04:45   0:00 /bin/sh -c ps aux | grep -i apt\r\n",
      "root      2925  0.0  0.0  13208  1076 pts/1    S+   04:45   0:00 grep -i apt\r\n"
     ]
    }
   ],
   "source": [
    "!ps aux | grep -i apt"
   ]
  },
  {
   "cell_type": "code",
   "execution_count": 7,
   "metadata": {},
   "outputs": [],
   "source": [
    "!kill -9 427"
   ]
  },
  {
   "cell_type": "code",
   "execution_count": 10,
   "metadata": {},
   "outputs": [
    {
     "name": "stdout",
     "output_type": "stream",
     "text": [
      "Setting up tzdata (2019c-0ubuntu0.18.04) ...\n",
      "debconf: unable to initialize frontend: Dialog\n",
      "debconf: (No usable dialog-like program is installed, so the dialog based frontend cannot be used. at /usr/share/perl5/Debconf/FrontEnd/Dialog.pm line 76.)\n",
      "debconf: falling back to frontend: Readline\n",
      "\n",
      "Current default time zone: 'Etc/UTC'\n",
      "Local time is now:      Tue Mar  3 04:46:16 UTC 2020.\n",
      "Universal Time is now:  Tue Mar  3 04:46:16 UTC 2020.\n",
      "Run 'dpkg-reconfigure tzdata' if you wish to change it.\n",
      "\n",
      "Setting up libcharls1:amd64 (1.1.0+dfsg-2) ...\n",
      "Setting up libtbb2:amd64 (2017~U7-8) ...\n",
      "Setting up libelf1:amd64 (0.170-0.4ubuntu0.1) ...\n",
      "Setting up libgeos-3.6.2:amd64 (3.6.2-1build2) ...\n",
      "Setting up libsoxr0:amd64 (0.1.2-3) ...\n",
      "Processing triggers for libglib2.0-0:amd64 (2.56.4-0ubuntu0.18.04.4) ...\n",
      "Setting up libssh-gcrypt-4:amd64 (0.8.0~20170825.94fa1e38-1ubuntu0.5) ...\n",
      "Setting up mysql-common (5.8+1.0.4) ...\n",
      "update-alternatives: using /etc/mysql/my.cnf.fallback to provide /etc/mysql/my.cnf (my.cnf) in auto mode\n",
      "Setting up libxshmfence1:amd64 (1.3-1) ...\n",
      "Setting up libopencv-core3.2:amd64 (3.2.0+dfsg-4ubuntu0.1) ...\n",
      "Setting up libwayland-client0:amd64 (1.16.0-1ubuntu1.1~18.04.3) ...\n",
      "Setting up xkb-data (2.23.1-1ubuntu1.18.04.1) ...\n",
      "Setting up libproxy1v5:amd64 (0.4.15-1) ...\n",
      "Setting up libsocket++1:amd64 (1.12.13-9) ...\n",
      "Setting up libgdk-pixbuf2.0-common (2.36.11-2) ...\n",
      "Setting up glib-networking-services (2.56.0-1) ...\n",
      "Setting up libdatrie1:amd64 (0.2.10-7) ...\n",
      "Setting up libtiff5:amd64 (4.0.9-5ubuntu0.3) ...\n",
      "Setting up libshine3:amd64 (3.1.1-1) ...\n",
      "Setting up libgif7:amd64 (5.1.4-2ubuntu0.1) ...\n",
      "Setting up libva2:amd64 (2.1.0-3) ...\n",
      "Setting up libglapi-mesa:amd64 (19.2.8-0ubuntu0~18.04.3) ...\n",
      "Setting up libepsilon1:amd64 (0.9.2+dfsg-2) ...\n",
      "Setting up libspeex1:amd64 (1.2~rc1.2-1ubuntu2) ...\n",
      "Setting up libxvidcore4:amd64 (2:1.3.5-1) ...\n",
      "Setting up libbsd0:amd64 (0.8.7-1ubuntu0.1) ...\n",
      "Setting up libnspr4:amd64 (2:4.18-1ubuntu1) ...\n",
      "Setting up ucf (3.0038) ...\n",
      "debconf: unable to initialize frontend: Dialog\n",
      "debconf: (No usable dialog-like program is installed, so the dialog based frontend cannot be used. at /usr/share/perl5/Debconf/FrontEnd/Dialog.pm line 76.)\n",
      "debconf: falling back to frontend: Readline\n",
      "Setting up libgphoto2-l10n (2.5.16-2) ...\n",
      "Setting up libxml2:amd64 (2.9.4+dfsg1-6.1ubuntu1.3) ...\n",
      "Setting up libfreexl1:amd64 (1.0.5-1) ...\n",
      "Setting up libopus0:amd64 (1.1.2-1ubuntu1) ...\n",
      "Setting up libx265-146:amd64 (2.6-3) ...\n",
      "Setting up libfyba0:amd64 (4.1.1-3) ...\n",
      "Setting up libdrm-common (2.4.99-1ubuntu1~18.04.2) ...\n",
      "Setting up libjson-glib-1.0-0:amd64 (1.4.2-3) ...\n",
      "Setting up libgraphite2-3:amd64 (1.3.11-2) ...\n",
      "Setting up libcroco3:amd64 (0.6.12-2) ...\n",
      "Setting up libpsm-infinipath1 (3.3+20.604758e7-5) ...\n",
      "update-alternatives: using /usr/lib/libpsm1/libpsm_infinipath.so.1.16 to provide /usr/lib/x86_64-linux-gnu/libpsm_infinipath.so.1 (libpsm_infinipath.so.1) in auto mode\n",
      "Setting up libogg0:amd64 (1.3.2-1) ...\n",
      "Setting up gdal-data (2.2.3+dfsg-2) ...\n",
      "Setting up libilmbase12:amd64 (2.2.0-11ubuntu2) ...\n",
      "Setting up libatk1.0-data (2.28.1-1) ...\n",
      "Setting up libgeos-c1v5:amd64 (3.6.2-1build2) ...\n",
      "Setting up libx11-xcb1:amd64 (2:1.6.4-3ubuntu0.2) ...\n",
      "Setting up libpixman-1-0:amd64 (0.34.0-2) ...\n",
      "Setting up libmp3lame0:amd64 (3.100-2) ...\n",
      "Setting up libblas3:amd64 (3.7.1-4ubuntu1) ...\n",
      "update-alternatives: using /usr/lib/x86_64-linux-gnu/blas/libblas.so.3 to provide /usr/lib/x86_64-linux-gnu/libblas.so.3 (libblas.so.3-x86_64-linux-gnu) in auto mode\n",
      "Setting up libpq5:amd64 (10.12-0ubuntu0.18.04.1) ...\n",
      "Setting up libusb-1.0-0:amd64 (2:1.0.21-2) ...\n",
      "Setting up libcrystalhd3:amd64 (1:0.0~git20110715.fdd2f19-12) ...\n",
      "Setting up openmpi-common (2.1.1-8) ...\n",
      "Processing triggers for libc-bin (2.27-3ubuntu1) ...\n",
      "Setting up libepoxy0:amd64 (1.4.3-1) ...\n",
      "Setting up libatk1.0-0:amd64 (2.28.1-1) ...\n",
      "Setting up libgdcm2.8:amd64 (2.8.4-1build2) ...\n",
      "Setting up libsnappy1v5:amd64 (1.1.7-1) ...\n",
      "Setting up libltdl7:amd64 (2.4.6-2) ...\n",
      "Setting up libnetcdf13:amd64 (1:4.6.0-2build1) ...\n",
      "Setting up libopencv-ml3.2:amd64 (3.2.0+dfsg-4ubuntu0.1) ...\n",
      "Setting up libdconf1:amd64 (0.26.0-2ubuntu3) ...\n",
      "Setting up libzvbi-common (0.2.35-13) ...\n",
      "Setting up libpciaccess0:amd64 (0.14-1) ...\n",
      "Setting up libsensors4:amd64 (1:3.4.0-4) ...\n",
      "Setting up shared-mime-info (1.9-2) ...\n",
      "Setting up libxkbcommon0:amd64 (0.8.2-1~ubuntu18.04.1) ...\n",
      "Setting up libopencv-imgproc3.2:amd64 (3.2.0+dfsg-4ubuntu0.1) ...\n",
      "Setting up libvpx5:amd64 (1.7.0-3ubuntu0.18.04.1) ...\n",
      "Setting up libmysqlclient20:amd64 (5.7.29-0ubuntu0.18.04.1) ...\n",
      "Setting up libopencv-flann3.2:amd64 (3.2.0+dfsg-4ubuntu0.1) ...\n",
      "Setting up libgme0:amd64 (0.6.2-1) ...\n",
      "Setting up libtcl8.6:amd64 (8.6.8+dfsg-3) ...\n",
      "Setting up libcolord2:amd64 (1.3.3-2build1) ...\n",
      "Setting up libthai-data (0.1.27-2) ...\n",
      "Setting up libxdmcp6:amd64 (1:1.1.2-3) ...\n",
      "Setting up libbdplus0:amd64 (0.1.2-2) ...\n",
      "Setting up ocl-icd-libopencl1:amd64 (2.2.11-1ubuntu1) ...\n",
      "Setting up libhdf4-0-alt (4.2.13-2) ...\n",
      "Setting up libzvbi0:amd64 (0.2.35-13) ...\n",
      "Setting up libllvm9:amd64 (1:9-2~ubuntu18.04.2) ...\n",
      "Setting up libnl-3-200:amd64 (3.2.29-0ubuntu3) ...\n",
      "Setting up libpython2.7-minimal:amd64 (2.7.17-1~18.04) ...\n",
      "Setting up libvorbis0a:amd64 (1.3.5-4.2) ...\n",
      "Setting up x11-common (1:7.7+19ubuntu7.1) ...\n",
      "debconf: unable to initialize frontend: Dialog\n",
      "debconf: (No usable dialog-like program is installed, so the dialog based frontend cannot be used. at /usr/share/perl5/Debconf/FrontEnd/Dialog.pm line 76.)\n",
      "debconf: falling back to frontend: Readline\n",
      "update-rc.d: warning: start and stop actions are no longer supported; falling back to defaults\n",
      "invoke-rc.d: could not determine current runlevel\n",
      "invoke-rc.d: policy-rc.d denied execution of start.\n",
      "Setting up libopencv-video3.2:amd64 (3.2.0+dfsg-4ubuntu0.1) ...\n",
      "Setting up libmpg123-0:amd64 (1.25.10-1) ...\n",
      "Setting up hicolor-icon-theme (0.17-2) ...\n",
      "Setting up libexif12:amd64 (0.6.21-4ubuntu0.1) ...\n",
      "Setting up libwayland-cursor0:amd64 (1.16.0-1ubuntu1.1~18.04.3) ...\n",
      "Setting up libgsm1:amd64 (1.0.13-4build1) ...\n",
      "Setting up libwayland-egl1:amd64 (1.16.0-1ubuntu1.1~18.04.3) ...\n",
      "Setting up libx11-data (2:1.6.4-3ubuntu0.2) ...\n",
      "Setting up libpython2.7-stdlib:amd64 (2.7.17-1~18.04) ...\n",
      "Setting up libxau6:amd64 (1:1.0.8-1) ...\n",
      "Setting up libxerces-c3.2:amd64 (3.2.0+debian-2) ...\n",
      "Setting up liburiparser1:amd64 (0.8.4-1) ...\n",
      "Setting up libavahi-common-data:amd64 (0.7-3.1ubuntu1.2) ...\n",
      "Setting up proj-data (4.9.3-2) ...\n",
      "Setting up libwebp6:amd64 (0.6.1-2) ...\n",
      "Setting up libjsoncpp1:amd64 (1.7.4-3) ...\n",
      "Setting up libvorbisfile3:amd64 (1.3.5-4.2) ...\n",
      "Setting up libnetcdf-c++4 (4.2-8) ...\n",
      "Setting up libopencv-photo3.2:amd64 (3.2.0+dfsg-4ubuntu0.1) ...\n",
      "Setting up libgphoto2-port12:amd64 (2.5.16-2) ...\n",
      "Setting up libdap25:amd64 (3.19.1-2build1) ...\n",
      "Setting up libproj12:amd64 (4.9.3-2) ...\n",
      "Setting up fontconfig-config (2.12.6-0ubuntu2) ...\n",
      "Setting up libodbc1:amd64 (2.3.4-1.1ubuntu3) ...\n",
      "Setting up dconf-service (0.26.0-2ubuntu3) ...\n",
      "Setting up libopenmpt0:amd64 (0.3.6-1) ...\n",
      "Setting up liblapack3:amd64 (3.7.1-4ubuntu1) ...\n",
      "update-alternatives: using /usr/lib/x86_64-linux-gnu/lapack/liblapack.so.3 to provide /usr/lib/x86_64-linux-gnu/liblapack.so.3 (liblapack.so.3-x86_64-linux-gnu) in auto mode\n",
      "Setting up libnss3:amd64 (2:3.35-2ubuntu2.7) ...\n",
      "Setting up libharfbuzz0b:amd64 (1.7.2-1ubuntu1) ...\n",
      "Setting up libdc1394-22:amd64 (2.2.5-1) ...\n",
      "Setting up libnl-route-3-200:amd64 (3.2.29-0ubuntu3) ...\n",
      "Setting up libthai0:amd64 (0.1.27-2) ...\n",
      "Setting up libopenexr22:amd64 (2.2.0-11.1ubuntu1.1) ...\n",
      "Setting up libsuperlu5:amd64 (5.2.1+dfsg1-3) ...\n",
      "Setting up libhwloc5:amd64 (1.11.9-1) ...\n",
      "Setting up libkmlbase1:amd64 (1.3.0-5) ...\n",
      "Setting up libdrm2:amd64 (2.4.99-1ubuntu1~18.04.2) ...\n",
      "Setting up liblept5 (1.75.3-3) ...\n",
      "Setting up libdapclient6v5:amd64 (3.19.1-2build1) ...\n",
      "Setting up libogdi3.2 (3.2.0+ds-2) ...\n",
      "Setting up libhwloc-plugins (1.11.9-1) ...\n",
      "Setting up libdrm-intel1:amd64 (2.4.99-1ubuntu1~18.04.2) ...\n",
      "Setting up proj-bin (4.9.3-2) ...\n",
      "Setting up libwebpmux3:amd64 (0.6.1-2) ...\n",
      "Setting up libva-drm2:amd64 (2.1.0-3) ...\n",
      "Setting up libpython2.7:amd64 (2.7.17-1~18.04) ...\n",
      "Setting up libgeotiff2:amd64 (1.4.2-2build1) ...\n",
      "Setting up libice6:amd64 (2:1.0.9-2) ...\n",
      "Setting up libopencv-shape3.2:amd64 (3.2.0+dfsg-4ubuntu0.1) ...\n"
     ]
    },
    {
     "name": "stdout",
     "output_type": "stream",
     "text": [
      "Setting up libspatialite7:amd64 (4.3.0a-5build1) ...\n",
      "Setting up libarpack2:amd64 (3.5.0+real-2) ...\n",
      "Setting up libkmldom1:amd64 (1.3.0-5) ...\n",
      "Setting up libavahi-common3:amd64 (0.7-3.1ubuntu1.2) ...\n",
      "Setting up libdrm-radeon1:amd64 (2.4.99-1ubuntu1~18.04.2) ...\n",
      "Setting up libvorbisenc2:amd64 (1.3.5-4.2) ...\n",
      "Setting up libdrm-nouveau2:amd64 (2.4.99-1ubuntu1~18.04.2) ...\n",
      "Setting up dconf-gsettings-backend:amd64 (0.26.0-2ubuntu3) ...\n",
      "Setting up libxcb1:amd64 (1.13-2~ubuntu18.04) ...\n",
      "Setting up libibverbs1:amd64 (17.1-1ubuntu0.2) ...\n",
      "Setting up libxcb-present0:amd64 (1.13-2~ubuntu18.04) ...\n",
      "Setting up libfontconfig1:amd64 (2.12.6-0ubuntu2) ...\n",
      "Setting up libxcb-dri2-0:amd64 (1.13-2~ubuntu18.04) ...\n",
      "Setting up libsm6:amd64 (2:1.2.2-1) ...\n",
      "Setting up libxcb-dri3-0:amd64 (1.13-2~ubuntu18.04) ...\n",
      "Setting up libxcb-glx0:amd64 (1.13-2~ubuntu18.04) ...\n",
      "Setting up libxcb-xfixes0:amd64 (1.13-2~ubuntu18.04) ...\n",
      "Setting up libxcb-render0:amd64 (1.13-2~ubuntu18.04) ...\n",
      "Setting up gsettings-desktop-schemas (3.28.0-1ubuntu1) ...\n",
      "Setting up libdrm-amdgpu1:amd64 (2.4.99-1ubuntu1~18.04.2) ...\n",
      "Setting up libgtk-3-common (3.22.30-1ubuntu4) ...\n",
      "Setting up python3-numpy (1:1.13.3-2ubuntu1) ...\n",
      "Setting up libx11-6:amd64 (2:1.6.4-3ubuntu0.2) ...\n",
      "Setting up libgl1-mesa-dri:amd64 (19.2.8-0ubuntu0~18.04.3) ...\n",
      "Setting up libtesseract4 (4.00~git2288-10f4998a-2) ...\n",
      "Setting up libbluray2:amd64 (1:1.0.2-3) ...\n",
      "Setting up librdmacm1:amd64 (17.1-1ubuntu0.2) ...\n",
      "Setting up libxcb-sync1:amd64 (1.13-2~ubuntu18.04) ...\n",
      "Setting up libarmadillo8 (1:8.400.0+dfsg-2) ...\n",
      "Setting up libpoppler73:amd64 (0.62.0-2ubuntu2.10) ...\n",
      "Setting up i965-va-driver:amd64 (2.1.0-0ubuntu1) ...\n",
      "Setting up libkmlengine1:amd64 (1.3.0-5) ...\n",
      "Setting up ibverbs-providers:amd64 (17.1-1ubuntu0.2) ...\n",
      "Setting up mesa-va-drivers:amd64 (19.2.8-0ubuntu0~18.04.3) ...\n",
      "Setting up glib-networking:amd64 (2.56.0-1) ...\n",
      "Setting up libxcomposite1:amd64 (1:0.4.4-2) ...\n",
      "Setting up libxcb-shm0:amd64 (1.13-2~ubuntu18.04) ...\n",
      "Setting up libxpm4:amd64 (1:3.5.12-1) ...\n",
      "Setting up libxt6:amd64 (1:1.1.5-1) ...\n",
      "Setting up libxrender1:amd64 (1:0.9.10-1) ...\n",
      "Setting up libavahi-client3:amd64 (0.7-3.1ubuntu1.2) ...\n",
      "Setting up libxft2:amd64 (2.3.2-1) ...\n",
      "Setting up fontconfig (2.12.6-0ubuntu2) ...\n",
      "Regenerating fonts cache... done.\n",
      "Setting up libcups2:amd64 (2.2.7-1ubuntu2.7) ...\n",
      "Setting up libxdamage1:amd64 (1:1.1.4-3) ...\n",
      "Setting up libxext6:amd64 (2:1.3.3-1) ...\n",
      "Setting up libxfixes3:amd64 (1:5.0.3-1) ...\n",
      "Setting up libfabric1 (1.5.3-1) ...\n",
      "Setting up libatspi2.0-0:amd64 (2.28.0-1) ...\n",
      "Setting up libxss1:amd64 (1:1.2.2-1) ...\n",
      "Setting up libgdk-pixbuf2.0-0:amd64 (2.36.11-2) ...\n",
      "Setting up libsoup2.4-1:amd64 (2.62.1-1ubuntu0.4) ...\n",
      "Setting up libgdk-pixbuf2.0-bin (2.36.11-2) ...\n",
      "Setting up libgd3:amd64 (2.2.5-4ubuntu0.3) ...\n",
      "Setting up libvdpau1:amd64 (1.1.1-3ubuntu1) ...\n",
      "Setting up libsoup-gnome2.4-1:amd64 (2.62.1-1ubuntu0.4) ...\n",
      "Setting up libxtst6:amd64 (2:1.2.3-1) ...\n",
      "Setting up gtk-update-icon-cache (3.22.30-1ubuntu4) ...\n",
      "Setting up libxcursor1:amd64 (1:1.1.15-1) ...\n",
      "Setting up va-driver-all:amd64 (2.1.0-3) ...\n",
      "Setting up libpango-1.0-0:amd64 (1.40.14-1ubuntu0.1) ...\n",
      "Setting up libatk-bridge2.0-0:amd64 (2.26.2-1) ...\n",
      "Setting up librest-0.7-0:amd64 (0.8.0-2) ...\n",
      "Setting up libopenmpi2:amd64 (2.1.1-8) ...\n",
      "Setting up libxxf86vm1:amd64 (1:1.1.4-1) ...\n",
      "Setting up libva-x11-2:amd64 (2.1.0-3) ...\n",
      "Setting up libxrandr2:amd64 (2:1.5.1-1) ...\n",
      "Setting up libglx-mesa0:amd64 (19.2.8-0ubuntu0~18.04.3) ...\n",
      "Setting up libxi6:amd64 (2:1.7.9-1) ...\n",
      "Setting up libcairo2:amd64 (1.15.10-2ubuntu0.1) ...\n",
      "Setting up libxinerama1:amd64 (2:1.1.3-1) ...\n",
      "Setting up libhdf5-openmpi-100:amd64 (1.10.0-patch1+docs-4) ...\n",
      "Setting up libavutil55:amd64 (7:3.4.6-0ubuntu0.18.04.1) ...\n",
      "Setting up at-spi2-core (2.28.0-1) ...\n",
      "Setting up libtk8.6:amd64 (8.6.8-4) ...\n",
      "Setting up mesa-vdpau-drivers:amd64 (19.2.8-0ubuntu0~18.04.3) ...\n",
      "Setting up libcairo-gobject2:amd64 (1.15.10-2ubuntu0.1) ...\n",
      "Setting up libgphoto2-6:amd64 (2.5.16-2) ...\n",
      "Setting up libswresample2:amd64 (7:3.4.6-0ubuntu0.18.04.1) ...\n",
      "Setting up openmpi-bin (2.1.1-8) ...\n",
      "update-alternatives: using /usr/bin/mpirun.openmpi to provide /usr/bin/mpirun (mpirun) in auto mode\n",
      "update-alternatives: warning: skip creation of /usr/share/man/man1/mpirun.1.gz because associated file /usr/share/man/man1/mpirun.openmpi.1.gz (of link group mpirun) doesn't exist\n",
      "update-alternatives: warning: skip creation of /usr/share/man/man1/mpiexec.1.gz because associated file /usr/share/man/man1/mpiexec.openmpi.1.gz (of link group mpirun) doesn't exist\n",
      "Setting up libpangoft2-1.0-0:amd64 (1.40.14-1ubuntu0.1) ...\n",
      "Setting up libswscale4:amd64 (7:3.4.6-0ubuntu0.18.04.1) ...\n",
      "Setting up libtheora0:amd64 (1.1.1+dfsg.1-14) ...\n",
      "Setting up libglx0:amd64 (1.0.0-2ubuntu2.3) ...\n",
      "Setting up vdpau-driver-all:amd64 (1.1.1-3ubuntu1) ...\n",
      "Setting up libpangocairo-1.0-0:amd64 (1.40.14-1ubuntu0.1) ...\n",
      "Setting up libgl1:amd64 (1.0.0-2ubuntu2.3) ...\n",
      "Setting up libgl2ps1.4 (1.4.0+dfsg1-1) ...\n",
      "Setting up librsvg2-2:amd64 (2.40.20-2) ...\n",
      "Setting up libavcodec57:amd64 (7:3.4.6-0ubuntu0.18.04.1) ...\n",
      "Setting up librsvg2-common:amd64 (2.40.20-2) ...\n",
      "Setting up libgl1-mesa-glx:amd64 (19.2.8-0ubuntu0~18.04.3) ...\n",
      "Setting up libchromaprint1:amd64 (1.4.3-1) ...\n",
      "Setting up libavformat57:amd64 (7:3.4.6-0ubuntu0.18.04.1) ...\n",
      "Setting up adwaita-icon-theme (3.28.0-1ubuntu1) ...\n",
      "update-alternatives: using /usr/share/icons/Adwaita/cursor.theme to provide /usr/share/icons/default/index.theme (x-cursor-theme) in auto mode\n",
      "Setting up humanity-icon-theme (0.6.15) ...\n",
      "Setting up libgtk-3-0:amd64 (3.22.30-1ubuntu4) ...\n",
      "Setting up libgtk-3-bin (3.22.30-1ubuntu4) ...\n",
      "Setting up odbcinst1debian2:amd64 (2.3.4-1.1ubuntu3) ...\n",
      "Setting up odbcinst (2.3.4-1.1ubuntu3) ...\n",
      "Setting up ubuntu-mono (16.10+18.04.20181005-0ubuntu1) ...\n",
      "Setting up libgdal20 (2.2.3+dfsg-2) ...\n",
      "Setting up libopencv-imgcodecs3.2:amd64 (3.2.0+dfsg-4ubuntu0.1) ...\n",
      "Setting up libvtk6.3 (6.3.0+dfsg1-11build1) ...\n",
      "Setting up libopencv-videoio3.2:amd64 (3.2.0+dfsg-4ubuntu0.1) ...\n",
      "Setting up libopencv-viz3.2:amd64 (3.2.0+dfsg-4ubuntu0.1) ...\n",
      "Setting up libopencv-superres3.2:amd64 (3.2.0+dfsg-4ubuntu0.1) ...\n",
      "Setting up libopencv-highgui3.2:amd64 (3.2.0+dfsg-4ubuntu0.1) ...\n",
      "Setting up libopencv-objdetect3.2:amd64 (3.2.0+dfsg-4ubuntu0.1) ...\n",
      "Setting up libopencv-features2d3.2:amd64 (3.2.0+dfsg-4ubuntu0.1) ...\n",
      "Setting up libopencv-calib3d3.2:amd64 (3.2.0+dfsg-4ubuntu0.1) ...\n",
      "Setting up libopencv-stitching3.2:amd64 (3.2.0+dfsg-4ubuntu0.1) ...\n",
      "Setting up libopencv-videostab3.2:amd64 (3.2.0+dfsg-4ubuntu0.1) ...\n",
      "Setting up libopencv-contrib3.2:amd64 (3.2.0+dfsg-4ubuntu0.1) ...\n",
      "Setting up python3-opencv (3.2.0+dfsg-4ubuntu0.1) ...\n",
      "Processing triggers for libc-bin (2.27-3ubuntu1) ...\n",
      "Processing triggers for libgdk-pixbuf2.0-0:amd64 (2.36.11-2) ...\n"
     ]
    }
   ],
   "source": [
    "!dpkg --configure -a"
   ]
  },
  {
   "cell_type": "code",
   "execution_count": 11,
   "metadata": {},
   "outputs": [],
   "source": [
    "import cv2"
   ]
  },
  {
   "cell_type": "code",
   "execution_count": 12,
   "metadata": {},
   "outputs": [
    {
     "name": "stdout",
     "output_type": "stream",
     "text": [
      "Collecting Cython\n",
      "\u001b[?25l  Downloading https://files.pythonhosted.org/packages/d1/54/9d66ee2180776dfe33c2b8cc2f2b67c343fd9d80de91ac0edc5bc346fb06/Cython-0.29.15-cp36-cp36m-manylinux1_x86_64.whl (2.1MB)\n",
      "\u001b[K     |████████████████████████████████| 2.1MB 8.5MB/s eta 0:00:01\n",
      "\u001b[?25hInstalling collected packages: Cython\n",
      "Successfully installed Cython-0.29.15\n",
      "\u001b[33mWARNING: You are using pip version 19.3.1; however, version 20.0.2 is available.\n",
      "You should consider upgrading via the 'pip install --upgrade pip' command.\u001b[0m\n",
      "Note: you may need to restart the kernel to use updated packages.\n"
     ]
    }
   ],
   "source": [
    "pip install Cython"
   ]
  },
  {
   "cell_type": "code",
   "execution_count": 13,
   "metadata": {},
   "outputs": [
    {
     "name": "stdout",
     "output_type": "stream",
     "text": [
      "Collecting contextlib2\n",
      "  Downloading https://files.pythonhosted.org/packages/85/60/370352f7ef6aa96c52fb001831622f50f923c1d575427d021b8ab3311236/contextlib2-0.6.0.post1-py2.py3-none-any.whl\n",
      "Installing collected packages: contextlib2\n",
      "Successfully installed contextlib2-0.6.0.post1\n",
      "\u001b[33mWARNING: You are using pip version 19.3.1; however, version 20.0.2 is available.\n",
      "You should consider upgrading via the 'pip install --upgrade pip' command.\u001b[0m\n",
      "Note: you may need to restart the kernel to use updated packages.\n"
     ]
    }
   ],
   "source": [
    "pip install contextlib2"
   ]
  },
  {
   "cell_type": "code",
   "execution_count": 14,
   "metadata": {},
   "outputs": [
    {
     "name": "stdout",
     "output_type": "stream",
     "text": [
      "Requirement already satisfied: matplotlib in /usr/local/lib/python3.6/dist-packages (3.1.1)\n",
      "Requirement already satisfied: kiwisolver>=1.0.1 in /usr/local/lib/python3.6/dist-packages (from matplotlib) (1.1.0)\n",
      "Requirement already satisfied: python-dateutil>=2.1 in /usr/local/lib/python3.6/dist-packages (from matplotlib) (2.8.0)\n",
      "Requirement already satisfied: numpy>=1.11 in /usr/local/lib/python3.6/dist-packages (from matplotlib) (1.17.3)\n",
      "Requirement already satisfied: cycler>=0.10 in /usr/local/lib/python3.6/dist-packages (from matplotlib) (0.10.0)\n",
      "Requirement already satisfied: pyparsing!=2.0.4,!=2.1.2,!=2.1.6,>=2.0.1 in /usr/local/lib/python3.6/dist-packages (from matplotlib) (2.4.2)\n",
      "Requirement already satisfied: setuptools in /usr/local/lib/python3.6/dist-packages (from kiwisolver>=1.0.1->matplotlib) (41.4.0)\n",
      "Requirement already satisfied: six>=1.5 in /usr/lib/python3/dist-packages (from python-dateutil>=2.1->matplotlib) (1.11.0)\n",
      "\u001b[33mWARNING: You are using pip version 19.3.1; however, version 20.0.2 is available.\n",
      "You should consider upgrading via the 'pip install --upgrade pip' command.\u001b[0m\n",
      "Note: you may need to restart the kernel to use updated packages.\n"
     ]
    }
   ],
   "source": [
    "pip install matplotlib"
   ]
  },
  {
   "cell_type": "code",
   "execution_count": 15,
   "metadata": {},
   "outputs": [
    {
     "name": "stdout",
     "output_type": "stream",
     "text": [
      "Collecting pillow\n",
      "\u001b[?25l  Downloading https://files.pythonhosted.org/packages/19/5e/23dcc0ce3cc2abe92efd3cd61d764bee6ccdf1b667a1fb566f45dc249953/Pillow-7.0.0-cp36-cp36m-manylinux1_x86_64.whl (2.1MB)\n",
      "\u001b[K     |████████████████████████████████| 2.1MB 9.0MB/s eta 0:00:01     |█████████▏                      | 604kB 137kB/s eta 0:00:11\n",
      "\u001b[?25hInstalling collected packages: pillow\n",
      "Successfully installed pillow-7.0.0\n",
      "\u001b[33mWARNING: You are using pip version 19.3.1; however, version 20.0.2 is available.\n",
      "You should consider upgrading via the 'pip install --upgrade pip' command.\u001b[0m\n",
      "Note: you may need to restart the kernel to use updated packages.\n"
     ]
    }
   ],
   "source": [
    "pip install pillow"
   ]
  },
  {
   "cell_type": "code",
   "execution_count": 16,
   "metadata": {},
   "outputs": [
    {
     "name": "stdout",
     "output_type": "stream",
     "text": [
      "Collecting lxml\n",
      "\u001b[?25l  Downloading https://files.pythonhosted.org/packages/dd/ba/a0e6866057fc0bbd17192925c1d63a3b85cf522965de9bc02364d08e5b84/lxml-4.5.0-cp36-cp36m-manylinux1_x86_64.whl (5.8MB)\n",
      "\u001b[K     |████████████████████████████████| 5.8MB 349kB/s eta 0:00:01\n",
      "\u001b[?25hInstalling collected packages: lxml\n",
      "Successfully installed lxml-4.5.0\n",
      "\u001b[33mWARNING: You are using pip version 19.3.1; however, version 20.0.2 is available.\n",
      "You should consider upgrading via the 'pip install --upgrade pip' command.\u001b[0m\n",
      "Note: you may need to restart the kernel to use updated packages.\n"
     ]
    }
   ],
   "source": [
    "pip install lxml"
   ]
  },
  {
   "cell_type": "code",
   "execution_count": 18,
   "metadata": {},
   "outputs": [
    {
     "name": "stdout",
     "output_type": "stream",
     "text": [
      "Requirement already satisfied: pandas in /usr/local/lib/python3.6/dist-packages (1.0.1)\n",
      "Requirement already satisfied: python-dateutil>=2.6.1 in /usr/local/lib/python3.6/dist-packages (from pandas) (2.8.0)\n",
      "Requirement already satisfied: pytz>=2017.2 in /usr/local/lib/python3.6/dist-packages (from pandas) (2019.3)\n",
      "Requirement already satisfied: numpy>=1.13.3 in /usr/local/lib/python3.6/dist-packages (from pandas) (1.17.3)\n",
      "Requirement already satisfied: six>=1.5 in /usr/lib/python3/dist-packages (from python-dateutil>=2.6.1->pandas) (1.11.0)\n",
      "\u001b[33mWARNING: You are using pip version 19.3.1; however, version 20.0.2 is available.\n",
      "You should consider upgrading via the 'pip install --upgrade pip' command.\u001b[0m\n",
      "Note: you may need to restart the kernel to use updated packages.\n"
     ]
    }
   ],
   "source": [
    "pip install pandas"
   ]
  },
  {
   "cell_type": "code",
   "execution_count": 19,
   "metadata": {},
   "outputs": [
    {
     "name": "stdout",
     "output_type": "stream",
     "text": [
      "Requirement already satisfied: numpy in /usr/local/lib/python3.6/dist-packages (1.17.3)\n",
      "Collecting scipy\n",
      "\u001b[?25l  Downloading https://files.pythonhosted.org/packages/dc/29/162476fd44203116e7980cfbd9352eef9db37c49445d1fec35509022f6aa/scipy-1.4.1-cp36-cp36m-manylinux1_x86_64.whl (26.1MB)\n",
      "\u001b[K     |████████████████████████████████| 26.1MB 137kB/s  eta 0:00:01    |█████████████▏                  | 10.8MB 6.7MB/s eta 0:00:03\n",
      "\u001b[?25hInstalling collected packages: scipy\n",
      "Successfully installed scipy-1.4.1\n",
      "\u001b[33mWARNING: You are using pip version 19.3.1; however, version 20.0.2 is available.\n",
      "You should consider upgrading via the 'pip install --upgrade pip' command.\u001b[0m\n",
      "Note: you may need to restart the kernel to use updated packages.\n"
     ]
    }
   ],
   "source": [
    "pip install numpy scipy"
   ]
  },
  {
   "cell_type": "code",
   "execution_count": 20,
   "metadata": {},
   "outputs": [
    {
     "name": "stdout",
     "output_type": "stream",
     "text": [
      "Collecting scikit-learn\n",
      "\u001b[?25l  Downloading https://files.pythonhosted.org/packages/e1/7f/366dcba1ba076a88a50bea732dbc033c0c5bbf7876010e6edc67948579d5/scikit_learn-0.22.2-cp36-cp36m-manylinux1_x86_64.whl (7.1MB)\n",
      "\u001b[K     |████████████████████████████████| 7.1MB 149kB/s eta 0:00:01\n",
      "\u001b[?25hRequirement already satisfied: scipy>=0.17.0 in /usr/local/lib/python3.6/dist-packages (from scikit-learn) (1.4.1)\n",
      "Collecting joblib>=0.11\n",
      "\u001b[?25l  Downloading https://files.pythonhosted.org/packages/28/5c/cf6a2b65a321c4a209efcdf64c2689efae2cb62661f8f6f4bb28547cf1bf/joblib-0.14.1-py2.py3-none-any.whl (294kB)\n",
      "\u001b[K     |████████████████████████████████| 296kB 100kB/s  eta 0:00:01\n",
      "\u001b[?25hRequirement already satisfied: numpy>=1.11.0 in /usr/local/lib/python3.6/dist-packages (from scikit-learn) (1.17.3)\n",
      "Installing collected packages: joblib, scikit-learn\n",
      "Successfully installed joblib-0.14.1 scikit-learn-0.22.2\n",
      "\u001b[33mWARNING: You are using pip version 19.3.1; however, version 20.0.2 is available.\n",
      "You should consider upgrading via the 'pip install --upgrade pip' command.\u001b[0m\n",
      "Note: you may need to restart the kernel to use updated packages.\n"
     ]
    }
   ],
   "source": [
    "pip install scikit-learn"
   ]
  },
  {
   "cell_type": "code",
   "execution_count": 21,
   "metadata": {},
   "outputs": [
    {
     "name": "stdout",
     "output_type": "stream",
     "text": [
      "Requirement already satisfied: h5py in /usr/local/lib/python3.6/dist-packages (2.10.0)\n",
      "Requirement already satisfied: numpy>=1.7 in /usr/local/lib/python3.6/dist-packages (from h5py) (1.17.3)\n",
      "Requirement already satisfied: six in /usr/lib/python3/dist-packages (from h5py) (1.11.0)\n",
      "\u001b[33mWARNING: You are using pip version 19.3.1; however, version 20.0.2 is available.\n",
      "You should consider upgrading via the 'pip install --upgrade pip' command.\u001b[0m\n",
      "Note: you may need to restart the kernel to use updated packages.\n"
     ]
    }
   ],
   "source": [
    "pip install h5py"
   ]
  },
  {
   "cell_type": "code",
   "execution_count": 22,
   "metadata": {},
   "outputs": [
    {
     "name": "stdout",
     "output_type": "stream",
     "text": [
      "Collecting keras\n",
      "\u001b[?25l  Downloading https://files.pythonhosted.org/packages/ad/fd/6bfe87920d7f4fd475acd28500a42482b6b84479832bdc0fe9e589a60ceb/Keras-2.3.1-py2.py3-none-any.whl (377kB)\n",
      "\u001b[K     |████████████████████████████████| 378kB 141kB/s eta 0:00:01\n",
      "\u001b[?25hRequirement already satisfied: keras-applications>=1.0.6 in /usr/local/lib/python3.6/dist-packages (from keras) (1.0.8)\n",
      "Collecting pyyaml\n",
      "\u001b[?25l  Downloading https://files.pythonhosted.org/packages/3d/d9/ea9816aea31beeadccd03f1f8b625ecf8f645bd66744484d162d84803ce5/PyYAML-5.3.tar.gz (268kB)\n",
      "\u001b[K     |████████████████████████████████| 276kB 9.4MB/s eta 0:00:01\n",
      "\u001b[?25hRequirement already satisfied: six>=1.9.0 in /usr/lib/python3/dist-packages (from keras) (1.11.0)\n",
      "Requirement already satisfied: numpy>=1.9.1 in /usr/local/lib/python3.6/dist-packages (from keras) (1.17.3)\n",
      "Requirement already satisfied: keras-preprocessing>=1.0.5 in /usr/local/lib/python3.6/dist-packages (from keras) (1.1.0)\n",
      "Requirement already satisfied: scipy>=0.14 in /usr/local/lib/python3.6/dist-packages (from keras) (1.4.1)\n",
      "Requirement already satisfied: h5py in /usr/local/lib/python3.6/dist-packages (from keras) (2.10.0)\n",
      "Building wheels for collected packages: pyyaml\n",
      "  Building wheel for pyyaml (setup.py) ... \u001b[?25ldone\n",
      "\u001b[?25h  Created wheel for pyyaml: filename=PyYAML-5.3-cp36-cp36m-linux_x86_64.whl size=45519 sha256=b33251b8e52d584fcb39ae98d9d2572f1de2d95db6193b606bcdc98f0b6c839c\n",
      "  Stored in directory: /root/.cache/pip/wheels/e4/76/4d/a95b8dd7b452b69e8ed4f68b69e1b55e12c9c9624dd962b191\n",
      "Successfully built pyyaml\n",
      "Installing collected packages: pyyaml, keras\n",
      "Successfully installed keras-2.3.1 pyyaml-5.3\n",
      "\u001b[33mWARNING: You are using pip version 19.3.1; however, version 20.0.2 is available.\n",
      "You should consider upgrading via the 'pip install --upgrade pip' command.\u001b[0m\n",
      "Note: you may need to restart the kernel to use updated packages.\n"
     ]
    }
   ],
   "source": [
    "pip install keras"
   ]
  },
  {
   "cell_type": "code",
   "execution_count": null,
   "metadata": {},
   "outputs": [
    {
     "name": "stdout",
     "output_type": "stream",
     "text": [
      "Using TensorFlow backend.\n",
      "WARNING:tensorflow:From /usr/local/lib/python3.6/dist-packages/tensorflow_core/python/ops/resource_variable_ops.py:1630: calling BaseResourceVariable.__init__ (from tensorflow.python.ops.resource_variable_ops) with constraint is deprecated and will be removed in a future version.\n",
      "Instructions for updating:\n",
      "If using Keras pass *_constraint arguments to layers.\n",
      "WARNING:tensorflow:From /usr/local/lib/python3.6/dist-packages/keras/backend/tensorflow_backend.py:4070: The name tf.nn.max_pool is deprecated. Please use tf.nn.max_pool2d instead.\n",
      "\n",
      "2020-03-03 05:57:45.277601: I tensorflow/stream_executor/platform/default/dso_loader.cc:44] Successfully opened dynamic library libcuda.so.1\n",
      "2020-03-03 05:57:45.298821: I tensorflow/stream_executor/cuda/cuda_gpu_executor.cc:983] successful NUMA node read from SysFS had negative value (-1), but there must be at least one NUMA node, so returning NUMA node zero\n",
      "2020-03-03 05:57:45.299091: I tensorflow/core/common_runtime/gpu/gpu_device.cc:1618] Found device 0 with properties: \n",
      "name: GeForce GTX 1050 major: 6 minor: 1 memoryClockRate(GHz): 1.493\n",
      "pciBusID: 0000:01:00.0\n",
      "2020-03-03 05:57:45.299312: I tensorflow/stream_executor/platform/default/dso_loader.cc:44] Successfully opened dynamic library libcudart.so.10.0\n",
      "2020-03-03 05:57:45.300232: I tensorflow/stream_executor/platform/default/dso_loader.cc:44] Successfully opened dynamic library libcublas.so.10.0\n",
      "2020-03-03 05:57:45.301077: I tensorflow/stream_executor/platform/default/dso_loader.cc:44] Successfully opened dynamic library libcufft.so.10.0\n",
      "2020-03-03 05:57:45.301288: I tensorflow/stream_executor/platform/default/dso_loader.cc:44] Successfully opened dynamic library libcurand.so.10.0\n",
      "2020-03-03 05:57:45.302505: I tensorflow/stream_executor/platform/default/dso_loader.cc:44] Successfully opened dynamic library libcusolver.so.10.0\n",
      "2020-03-03 05:57:45.303413: I tensorflow/stream_executor/platform/default/dso_loader.cc:44] Successfully opened dynamic library libcusparse.so.10.0\n",
      "2020-03-03 05:57:45.306239: I tensorflow/stream_executor/platform/default/dso_loader.cc:44] Successfully opened dynamic library libcudnn.so.7\n",
      "2020-03-03 05:57:45.306350: I tensorflow/stream_executor/cuda/cuda_gpu_executor.cc:983] successful NUMA node read from SysFS had negative value (-1), but there must be at least one NUMA node, so returning NUMA node zero\n",
      "2020-03-03 05:57:45.306661: I tensorflow/stream_executor/cuda/cuda_gpu_executor.cc:983] successful NUMA node read from SysFS had negative value (-1), but there must be at least one NUMA node, so returning NUMA node zero\n",
      "2020-03-03 05:57:45.306876: I tensorflow/core/common_runtime/gpu/gpu_device.cc:1746] Adding visible gpu devices: 0\n",
      "2020-03-03 05:57:45.307156: I tensorflow/core/platform/cpu_feature_guard.cc:142] Your CPU supports instructions that this TensorFlow binary was not compiled to use: AVX2 FMA\n",
      "2020-03-03 05:57:45.330114: I tensorflow/core/platform/profile_utils/cpu_utils.cc:94] CPU Frequency: 2299965000 Hz\n",
      "2020-03-03 05:57:45.330757: I tensorflow/compiler/xla/service/service.cc:168] XLA service 0x68aa450 initialized for platform Host (this does not guarantee that XLA will be used). Devices:\n",
      "2020-03-03 05:57:45.330798: I tensorflow/compiler/xla/service/service.cc:176]   StreamExecutor device (0): Host, Default Version\n",
      "2020-03-03 05:57:45.391597: I tensorflow/stream_executor/cuda/cuda_gpu_executor.cc:983] successful NUMA node read from SysFS had negative value (-1), but there must be at least one NUMA node, so returning NUMA node zero\n",
      "2020-03-03 05:57:45.391937: I tensorflow/compiler/xla/service/service.cc:168] XLA service 0x692ce00 initialized for platform CUDA (this does not guarantee that XLA will be used). Devices:\n",
      "2020-03-03 05:57:45.391958: I tensorflow/compiler/xla/service/service.cc:176]   StreamExecutor device (0): GeForce GTX 1050, Compute Capability 6.1\n",
      "2020-03-03 05:57:45.392153: I tensorflow/stream_executor/cuda/cuda_gpu_executor.cc:983] successful NUMA node read from SysFS had negative value (-1), but there must be at least one NUMA node, so returning NUMA node zero\n",
      "2020-03-03 05:57:45.392429: I tensorflow/core/common_runtime/gpu/gpu_device.cc:1618] Found device 0 with properties: \n",
      "name: GeForce GTX 1050 major: 6 minor: 1 memoryClockRate(GHz): 1.493\n",
      "pciBusID: 0000:01:00.0\n",
      "2020-03-03 05:57:45.392504: I tensorflow/stream_executor/platform/default/dso_loader.cc:44] Successfully opened dynamic library libcudart.so.10.0\n",
      "2020-03-03 05:57:45.392535: I tensorflow/stream_executor/platform/default/dso_loader.cc:44] Successfully opened dynamic library libcublas.so.10.0\n",
      "2020-03-03 05:57:45.392560: I tensorflow/stream_executor/platform/default/dso_loader.cc:44] Successfully opened dynamic library libcufft.so.10.0\n",
      "2020-03-03 05:57:45.392584: I tensorflow/stream_executor/platform/default/dso_loader.cc:44] Successfully opened dynamic library libcurand.so.10.0\n",
      "2020-03-03 05:57:45.392609: I tensorflow/stream_executor/platform/default/dso_loader.cc:44] Successfully opened dynamic library libcusolver.so.10.0\n",
      "2020-03-03 05:57:45.392634: I tensorflow/stream_executor/platform/default/dso_loader.cc:44] Successfully opened dynamic library libcusparse.so.10.0\n",
      "2020-03-03 05:57:45.392659: I tensorflow/stream_executor/platform/default/dso_loader.cc:44] Successfully opened dynamic library libcudnn.so.7\n",
      "2020-03-03 05:57:45.392712: I tensorflow/stream_executor/cuda/cuda_gpu_executor.cc:983] successful NUMA node read from SysFS had negative value (-1), but there must be at least one NUMA node, so returning NUMA node zero\n",
      "2020-03-03 05:57:45.392965: I tensorflow/stream_executor/cuda/cuda_gpu_executor.cc:983] successful NUMA node read from SysFS had negative value (-1), but there must be at least one NUMA node, so returning NUMA node zero\n",
      "2020-03-03 05:57:45.393197: I tensorflow/core/common_runtime/gpu/gpu_device.cc:1746] Adding visible gpu devices: 0\n",
      "2020-03-03 05:57:45.393240: I tensorflow/stream_executor/platform/default/dso_loader.cc:44] Successfully opened dynamic library libcudart.so.10.0\n",
      "2020-03-03 05:57:45.394354: I tensorflow/core/common_runtime/gpu/gpu_device.cc:1159] Device interconnect StreamExecutor with strength 1 edge matrix:\n",
      "2020-03-03 05:57:45.394373: I tensorflow/core/common_runtime/gpu/gpu_device.cc:1165]      0 \n",
      "2020-03-03 05:57:45.394384: I tensorflow/core/common_runtime/gpu/gpu_device.cc:1178] 0:   N \n",
      "2020-03-03 05:57:45.394499: I tensorflow/stream_executor/cuda/cuda_gpu_executor.cc:983] successful NUMA node read from SysFS had negative value (-1), but there must be at least one NUMA node, so returning NUMA node zero\n",
      "2020-03-03 05:57:45.394884: I tensorflow/stream_executor/cuda/cuda_gpu_executor.cc:983] successful NUMA node read from SysFS had negative value (-1), but there must be at least one NUMA node, so returning NUMA node zero\n",
      "2020-03-03 05:57:45.395127: I tensorflow/core/common_runtime/gpu/gpu_device.cc:1304] Created TensorFlow device (/job:localhost/replica:0/task:0/device:GPU:0 with 3148 MB memory) -> physical GPU (device: 0, name: GeForce GTX 1050, pci bus id: 0000:01:00.0, compute capability: 6.1)\n",
      "WARNING:tensorflow:From /usr/local/lib/python3.6/dist-packages/keras/backend/tensorflow_backend.py:422: The name tf.global_variables is deprecated. Please use tf.compat.v1.global_variables instead.\n",
      "\n",
      "2020-03-03 05:57:46.556634: I tensorflow/stream_executor/platform/default/dso_loader.cc:44] Successfully opened dynamic library libcublas.so.10.0\n",
      "2020-03-03 05:57:46.685076: I tensorflow/stream_executor/platform/default/dso_loader.cc:44] Successfully opened dynamic library libcudnn.so.7\n"
     ]
    }
   ],
   "source": [
    "!python TrafficSign_img_Test.py"
   ]
  },
  {
   "cell_type": "code",
   "execution_count": 53,
   "metadata": {},
   "outputs": [
    {
     "name": "stdout",
     "output_type": "stream",
     "text": [
      "Using TensorFlow backend.\n",
      "Total Classes Detected: 43\n",
      "Importing Classes.....\n",
      "0 1 2 3 4 5 6 7 8 9 10 11 12 13 14 15 16 17 18 19 20 21 22 23 24 25 26 27 28 29 30 31 32 33 34 35 36 37 38 39 40 41 42  \n",
      "Data Shapes\n",
      "Train(22271, 32, 32, 3) (22271,)\n",
      "Validation(5568, 32, 32, 3) (5568,)\n",
      "Test(6960, 32, 32, 3) (6960,)\n",
      "data shape  (43, 2) <class 'pandas.core.frame.DataFrame'>\n",
      "WARNING:tensorflow:From /usr/local/lib/python3.6/dist-packages/tensorflow_core/python/ops/resource_variable_ops.py:1630: calling BaseResourceVariable.__init__ (from tensorflow.python.ops.resource_variable_ops) with constraint is deprecated and will be removed in a future version.\n",
      "Instructions for updating:\n",
      "If using Keras pass *_constraint arguments to layers.\n",
      "WARNING:tensorflow:From /usr/local/lib/python3.6/dist-packages/keras/backend/tensorflow_backend.py:4070: The name tf.nn.max_pool is deprecated. Please use tf.nn.max_pool2d instead.\n",
      "\n",
      "Model: \"sequential_1\"\n",
      "_________________________________________________________________\n",
      "Layer (type)                 Output Shape              Param #   \n",
      "=================================================================\n",
      "conv2d_1 (Conv2D)            (None, 28, 28, 60)        1560      \n",
      "_________________________________________________________________\n",
      "conv2d_2 (Conv2D)            (None, 24, 24, 60)        90060     \n",
      "_________________________________________________________________\n",
      "max_pooling2d_1 (MaxPooling2 (None, 12, 12, 60)        0         \n",
      "_________________________________________________________________\n",
      "conv2d_3 (Conv2D)            (None, 10, 10, 30)        16230     \n",
      "_________________________________________________________________\n",
      "conv2d_4 (Conv2D)            (None, 8, 8, 30)          8130      \n",
      "_________________________________________________________________\n",
      "max_pooling2d_2 (MaxPooling2 (None, 4, 4, 30)          0         \n",
      "_________________________________________________________________\n",
      "dropout_1 (Dropout)          (None, 4, 4, 30)          0         \n",
      "_________________________________________________________________\n",
      "flatten_1 (Flatten)          (None, 480)               0         \n",
      "_________________________________________________________________\n",
      "dense_1 (Dense)              (None, 500)               240500    \n",
      "_________________________________________________________________\n",
      "dropout_2 (Dropout)          (None, 500)               0         \n",
      "_________________________________________________________________\n",
      "dense_2 (Dense)              (None, 43)                21543     \n",
      "=================================================================\n",
      "Total params: 378,023\n",
      "Trainable params: 378,023\n",
      "Non-trainable params: 0\n",
      "_________________________________________________________________\n",
      "None\n",
      "2020-03-03 05:43:41.629257: I tensorflow/stream_executor/platform/default/dso_loader.cc:44] Successfully opened dynamic library libcuda.so.1\n",
      "2020-03-03 05:43:41.655027: I tensorflow/stream_executor/cuda/cuda_gpu_executor.cc:983] successful NUMA node read from SysFS had negative value (-1), but there must be at least one NUMA node, so returning NUMA node zero\n",
      "2020-03-03 05:43:41.655589: I tensorflow/core/common_runtime/gpu/gpu_device.cc:1618] Found device 0 with properties: \n",
      "name: GeForce GTX 1050 major: 6 minor: 1 memoryClockRate(GHz): 1.493\n",
      "pciBusID: 0000:01:00.0\n",
      "2020-03-03 05:43:41.655825: I tensorflow/stream_executor/platform/default/dso_loader.cc:44] Successfully opened dynamic library libcudart.so.10.0\n",
      "2020-03-03 05:43:41.656773: I tensorflow/stream_executor/platform/default/dso_loader.cc:44] Successfully opened dynamic library libcublas.so.10.0\n",
      "2020-03-03 05:43:41.657485: I tensorflow/stream_executor/platform/default/dso_loader.cc:44] Successfully opened dynamic library libcufft.so.10.0\n",
      "2020-03-03 05:43:41.657689: I tensorflow/stream_executor/platform/default/dso_loader.cc:44] Successfully opened dynamic library libcurand.so.10.0\n",
      "2020-03-03 05:43:41.658684: I tensorflow/stream_executor/platform/default/dso_loader.cc:44] Successfully opened dynamic library libcusolver.so.10.0\n",
      "2020-03-03 05:43:41.659419: I tensorflow/stream_executor/platform/default/dso_loader.cc:44] Successfully opened dynamic library libcusparse.so.10.0\n",
      "2020-03-03 05:43:41.661462: I tensorflow/stream_executor/platform/default/dso_loader.cc:44] Successfully opened dynamic library libcudnn.so.7\n",
      "2020-03-03 05:43:41.661611: I tensorflow/stream_executor/cuda/cuda_gpu_executor.cc:983] successful NUMA node read from SysFS had negative value (-1), but there must be at least one NUMA node, so returning NUMA node zero\n",
      "2020-03-03 05:43:41.662006: I tensorflow/stream_executor/cuda/cuda_gpu_executor.cc:983] successful NUMA node read from SysFS had negative value (-1), but there must be at least one NUMA node, so returning NUMA node zero\n",
      "2020-03-03 05:43:41.662258: I tensorflow/core/common_runtime/gpu/gpu_device.cc:1746] Adding visible gpu devices: 0\n",
      "2020-03-03 05:43:41.662603: I tensorflow/core/platform/cpu_feature_guard.cc:142] Your CPU supports instructions that this TensorFlow binary was not compiled to use: AVX2 FMA\n",
      "2020-03-03 05:43:41.686135: I tensorflow/core/platform/profile_utils/cpu_utils.cc:94] CPU Frequency: 2299965000 Hz\n",
      "2020-03-03 05:43:41.686496: I tensorflow/compiler/xla/service/service.cc:168] XLA service 0x64f6f50 initialized for platform Host (this does not guarantee that XLA will be used). Devices:\n",
      "2020-03-03 05:43:41.686517: I tensorflow/compiler/xla/service/service.cc:176]   StreamExecutor device (0): Host, Default Version\n",
      "2020-03-03 05:43:41.753416: I tensorflow/stream_executor/cuda/cuda_gpu_executor.cc:983] successful NUMA node read from SysFS had negative value (-1), but there must be at least one NUMA node, so returning NUMA node zero\n",
      "2020-03-03 05:43:41.753736: I tensorflow/compiler/xla/service/service.cc:168] XLA service 0x64407d0 initialized for platform CUDA (this does not guarantee that XLA will be used). Devices:\n",
      "2020-03-03 05:43:41.753757: I tensorflow/compiler/xla/service/service.cc:176]   StreamExecutor device (0): GeForce GTX 1050, Compute Capability 6.1\n",
      "2020-03-03 05:43:41.753964: I tensorflow/stream_executor/cuda/cuda_gpu_executor.cc:983] successful NUMA node read from SysFS had negative value (-1), but there must be at least one NUMA node, so returning NUMA node zero\n",
      "2020-03-03 05:43:41.754210: I tensorflow/core/common_runtime/gpu/gpu_device.cc:1618] Found device 0 with properties: \n",
      "name: GeForce GTX 1050 major: 6 minor: 1 memoryClockRate(GHz): 1.493\n",
      "pciBusID: 0000:01:00.0\n",
      "2020-03-03 05:43:41.754292: I tensorflow/stream_executor/platform/default/dso_loader.cc:44] Successfully opened dynamic library libcudart.so.10.0\n",
      "2020-03-03 05:43:41.754325: I tensorflow/stream_executor/platform/default/dso_loader.cc:44] Successfully opened dynamic library libcublas.so.10.0\n",
      "2020-03-03 05:43:41.754353: I tensorflow/stream_executor/platform/default/dso_loader.cc:44] Successfully opened dynamic library libcufft.so.10.0\n",
      "2020-03-03 05:43:41.754380: I tensorflow/stream_executor/platform/default/dso_loader.cc:44] Successfully opened dynamic library libcurand.so.10.0\n",
      "2020-03-03 05:43:41.754407: I tensorflow/stream_executor/platform/default/dso_loader.cc:44] Successfully opened dynamic library libcusolver.so.10.0\n",
      "2020-03-03 05:43:41.754433: I tensorflow/stream_executor/platform/default/dso_loader.cc:44] Successfully opened dynamic library libcusparse.so.10.0\n",
      "2020-03-03 05:43:41.754461: I tensorflow/stream_executor/platform/default/dso_loader.cc:44] Successfully opened dynamic library libcudnn.so.7\n",
      "2020-03-03 05:43:41.754528: I tensorflow/stream_executor/cuda/cuda_gpu_executor.cc:983] successful NUMA node read from SysFS had negative value (-1), but there must be at least one NUMA node, so returning NUMA node zero\n",
      "2020-03-03 05:43:41.754812: I tensorflow/stream_executor/cuda/cuda_gpu_executor.cc:983] successful NUMA node read from SysFS had negative value (-1), but there must be at least one NUMA node, so returning NUMA node zero\n",
      "2020-03-03 05:43:41.755030: I tensorflow/core/common_runtime/gpu/gpu_device.cc:1746] Adding visible gpu devices: 0\n",
      "2020-03-03 05:43:41.755074: I tensorflow/stream_executor/platform/default/dso_loader.cc:44] Successfully opened dynamic library libcudart.so.10.0\n",
      "2020-03-03 05:43:41.756136: I tensorflow/core/common_runtime/gpu/gpu_device.cc:1159] Device interconnect StreamExecutor with strength 1 edge matrix:\n",
      "2020-03-03 05:43:41.756151: I tensorflow/core/common_runtime/gpu/gpu_device.cc:1165]      0 \n",
      "2020-03-03 05:43:41.756162: I tensorflow/core/common_runtime/gpu/gpu_device.cc:1178] 0:   N \n",
      "2020-03-03 05:43:41.756250: I tensorflow/stream_executor/cuda/cuda_gpu_executor.cc:983] successful NUMA node read from SysFS had negative value (-1), but there must be at least one NUMA node, so returning NUMA node zero\n",
      "2020-03-03 05:43:41.756519: I tensorflow/stream_executor/cuda/cuda_gpu_executor.cc:983] successful NUMA node read from SysFS had negative value (-1), but there must be at least one NUMA node, so returning NUMA node zero\n",
      "2020-03-03 05:43:41.756783: I tensorflow/core/common_runtime/gpu/gpu_device.cc:1304] Created TensorFlow device (/job:localhost/replica:0/task:0/device:GPU:0 with 3176 MB memory) -> physical GPU (device: 0, name: GeForce GTX 1050, pci bus id: 0000:01:00.0, compute capability: 6.1)\n"
     ]
    },
    {
     "name": "stdout",
     "output_type": "stream",
     "text": [
      "WARNING:tensorflow:From /usr/local/lib/python3.6/dist-packages/keras/backend/tensorflow_backend.py:422: The name tf.global_variables is deprecated. Please use tf.compat.v1.global_variables instead.\n",
      "\n",
      "Epoch 1/10\n",
      "2020-03-03 05:43:42.641411: I tensorflow/stream_executor/platform/default/dso_loader.cc:44] Successfully opened dynamic library libcublas.so.10.0\n",
      "2020-03-03 05:43:42.884080: I tensorflow/stream_executor/platform/default/dso_loader.cc:44] Successfully opened dynamic library libcudnn.so.7\n",
      "2000/2000 [==============================] - 100s 50ms/step - loss: 1.2435 - accuracy: 0.6335 - val_loss: 0.1255 - val_accuracy: 0.9634\n",
      "Epoch 2/10\n",
      "2000/2000 [==============================] - 100s 50ms/step - loss: 0.3893 - accuracy: 0.8773 - val_loss: 0.0558 - val_accuracy: 0.9853\n",
      "Epoch 3/10\n",
      "2000/2000 [==============================] - 94s 47ms/step - loss: 0.2709 - accuracy: 0.9154 - val_loss: 0.0426 - val_accuracy: 0.9874\n",
      "Epoch 4/10\n",
      "2000/2000 [==============================] - 97s 49ms/step - loss: 0.2168 - accuracy: 0.9317 - val_loss: 0.0293 - val_accuracy: 0.9916\n",
      "Epoch 5/10\n",
      "2000/2000 [==============================] - 71s 35ms/step - loss: 0.1858 - accuracy: 0.9420 - val_loss: 0.0218 - val_accuracy: 0.9937\n",
      "Epoch 6/10\n",
      "2000/2000 [==============================] - 27s 14ms/step - loss: 0.1645 - accuracy: 0.9494 - val_loss: 0.0380 - val_accuracy: 0.9880\n",
      "Epoch 7/10\n",
      "2000/2000 [==============================] - 27s 14ms/step - loss: 0.1475 - accuracy: 0.9546 - val_loss: 0.0192 - val_accuracy: 0.9964\n",
      "Epoch 8/10\n",
      "2000/2000 [==============================] - 28s 14ms/step - loss: 0.1364 - accuracy: 0.9589 - val_loss: 0.0247 - val_accuracy: 0.9937\n",
      "Epoch 9/10\n",
      "2000/2000 [==============================] - 28s 14ms/step - loss: 0.1259 - accuracy: 0.9618 - val_loss: 0.0225 - val_accuracy: 0.9937\n",
      "Epoch 10/10\n",
      "2000/2000 [==============================] - 27s 13ms/step - loss: 0.1248 - accuracy: 0.9620 - val_loss: 0.0213 - val_accuracy: 0.9939\n",
      "Test Score: 0.024420035326394342\n",
      "Test Accuracy: 0.9928160905838013\n"
     ]
    }
   ],
   "source": [
    "#!python TrafficSign_Main.py"
   ]
  }
 ],
 "metadata": {
  "kernelspec": {
   "display_name": "Python 3",
   "language": "python",
   "name": "python3"
  },
  "language_info": {
   "codemirror_mode": {
    "name": "ipython",
    "version": 3
   },
   "file_extension": ".py",
   "mimetype": "text/x-python",
   "name": "python",
   "nbconvert_exporter": "python",
   "pygments_lexer": "ipython3",
   "version": "3.6.8"
  }
 },
 "nbformat": 4,
 "nbformat_minor": 2
}
